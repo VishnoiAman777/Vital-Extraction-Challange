{
  "nbformat": 4,
  "nbformat_minor": 0,
  "metadata": {
    "colab": {
      "provenance": [],
      "collapsed_sections": [
        "fJzJcnOoxhSB"
      ]
    },
    "kernelspec": {
      "name": "python3",
      "display_name": "Python 3"
    },
    "language_info": {
      "name": "python"
    }
  },
  "cells": [
    {
      "cell_type": "markdown",
      "source": [
        "# **Introduction**\n",
        "Patient monitoring is a crucial aspect of healthcare, as it allows healthcare professionals to closely track a patient's vital signs and detect any potential issues before they become serious. Our Approach makes a vital extraction pipeline that will help to extract vitals and digitize graphs via images from a vital monitoring system. We have tried and used numerous pipelines and several models in our vital extraction system and have tuned our model over the training images.\n",
        "\n",
        "# **Methodology**\n",
        "\n",
        "![Pipeline](https://drive.google.com/uc?id=1j8QBZONjpRvy72rdZm7u7EQs1Xu7Hk4f)\n",
        "\n",
        "The main pipeline we have applied is text detection and recognition model. For text detection we have used transfer learning over a pretrained YoloV7 model. \n",
        "\n",
        "![Yolo Architecture](https://blog.roboflow.com/content/images/2022/07/image-33.webp)\n",
        "\n",
        "Yolov7 is a single stage object detector from the YOLO family.The author claimed that yolo-v7 effectively reduces about 40% parameters and 50% computation of state-of-the-art real-time object detectors. It focuses on optimizing the training process. In a YOLO model, image frames are featurized through a backbone. These features are combined and mixed in the neck, and then they are passed along to the head of the network YOLO predicts the locations and classes of objects around which bounding boxes should be drawn.\n",
        "Hyperparameters used in YoloV7:\n",
        "* Number of epochs: 300\n",
        "* Warmup Epochs: 3\n",
        "* Warmup Momentum: 0.8\n",
        "* Warmup_bias_lr: 0.1\n",
        "* Momentum: 0.937  # SGD momentum/Adam\n",
        "* Initial Learning Rate: 0.01\n",
        "\n",
        "![Easy OCR Framework](https://raw.githubusercontent.com/JaidedAI/EasyOCR/master/examples/easyocr_framework.jpeg)\n",
        "For the purpose of Text Recognition we have used EasyOCR. The EasyOCR is an open-source end-to-end text detection and recognition system. The main API provided is readtext(), which extracts all the text in a given image. Direct usage of this API was giving unwanted text as well. An exact algorithm to clean the output was infeasible as what unwanted text will be detected was unpredictable. The readtext() API is decoupled into two other APIs, which are detect() and recognize(). Since our YOLO model trained on the given dataset performed pretty well in detecting the vitals and labelling them with their type, we decided to use only the recognize() API. The recognize() API needs a list of detected text bounding boxes. It recognizes only the text that is present in the bounding boxes. This made cleaning the output much easier as now only the vital values, and some surrounding characters such as ‘(‘, ‘)’ and ‘/’ were being recognized. Cleaning this is much easier. Another major reason for using EasyOCR is its architecture. It allows us to integrate our custom models into the pipeline to do recognition. Initially, we had planned to put our custom pipeline mentioned below in it. But as a dataset with vitals and their values was not given and making one in a short span was not feasible hence we didn’t use our pipeline and used the standard pipeline provided which uses accurate models.\n",
        "\n",
        "**Graphs:**\n",
        "For the purpose of Digitizing the graphs,we observed that when we plotted a histogram for pixel distribution over an image there were typically two set of classes foreground and the background. Since we could binarise the image by applying a threshold, we applied OTSU thresholding to maximise the variance between classes and obtain an optimal threshold value where the background and foreground could be distinguished clearly. When the threshold is applied, the wave is visible on a pitch-black background. To digitise graphs, we perform pointwise operations on the entire image to locate all the white pixels and then display the graph while keeping the original aspect ratio.\n",
        "\n",
        "# **Other approaches used**\n",
        "\n",
        "## *Inferece via Onxx Runtime*\n",
        "Rather than performing the inference in the PyTorch environment, a good alternative can be to do the inference in the ONXX runtime environment. ONXX provides an intermediary representation that optimises various CPUs and GPUs, hence it makes sense to run the Pytorch inference pipeline under the ONXX runtime. The official repository of YOLOv7 contains the script export.py, which can be used to convert a Pytorch model to ONXX format. Next, we create a ONXX session, perform the inference on the converted model, and find that the inference time is a bit higher than the Pytorch inference time. Next, rather than performing inference on a single image, we perform the inference on a batch of images as it might be the case that inference on a batch of images is faster in ONXX than Pytorch. However, we find that the time is almost the same, which is why we continue with the Pytorch version. \n",
        "\n",
        "## *Monitor Layout Classification*\n",
        "Given the dataset of 4 monitor layout models, our initial approach was to train a different model for each type of layout monitor. To do this for given a monitor image, we needed to first classify it according to its type. For this, we trained a standard classification model. The dataset was divided into 900 images for training and 100 for testing. The neural network architecture is given below:\n",
        "\n",
        "![Monitor Image Layout](https://drive.google.com/uc?id=1hXpdZIICgvCm_8JJlSE6YN1WPaGUTcCO)\n",
        "\n",
        "The model was working pretty decent on the test dataset, giving an F1 score of 0.98 on the test dataset. But in the end, we realised a generalised model for detection trained on all four types of monitors layouts was performing well, and we didn’t need four separate models the classification network was not used.\n",
        "\n",
        "##  *Number extraction via filter*\n",
        "A rudimentary approach we thought of was applying filters of the colours in which different vital signs were written on the monitor. So, for example, in the above image, each number is written in a different colour, and we can create a filter of that colour and create a binary version of the image where only the digits written in that colour are highlighted. The rest of the image is black. For this approach to work for all the different types of monitors, we tried creating different filters for each type. However, this approach only works in the ideal case when all monitors of a type have the same colour variations. As can be seen from the images in the dataset, they are present in different lighting conditions, due to which no single filter works well for all images of a type of monitor and fails to give a good binary image. We tried to remediate the problem using the Gaussian thresholding approach to reduce the noise in the binarised image, but this approach failed to give the desired results. The accuracy of this step is important as the next step will be to read the digits in the binary image using OCR. Still, if the binary image contains noise and the masking is not proper, then the accuracy of OCR will be adversely affected. Hence, to enforce the accuracy of our entire pipeline, we thought to use an efficient and accurate algorithm to detect the different digits, which is where we went with YOLOv7 as our backbone of the inference pipeline. \n",
        "\n",
        "## *Contour extraction and digit recognition*\n",
        "\n",
        "A different approach we've tried to employ to identify numbers inside a specific bounding box uses contour and easy digit recognition. We first chose this method because we thought it would be faster than EasyOCR, which uses advanced models like LSTM and Resnet. Instead, it makes use of a simple 3-layer model.In order to binarize the image, we first use YOLOV7 to extract a crucial region from a crucial monitor. To find exterior contours in the binarized image, we used contour detection on the original image. We also used additional preprocessing to produce a binary image that was more optimal and provided the desired results in terms of numbers. On the MNIST dataset, we trained a straightforward digit classifier, which we use to determine the precise value of the number we're looking for.This strategy provides us with a fairly accurate forecast, but because we lack a vitals labeled dataset, we are unable to gauge the model's accuracy over a sizable testing set.\n",
        "\n",
        "\n",
        "\n",
        "\n"
      ],
      "metadata": {
        "id": "shCiGPOk7kUY"
      }
    },
    {
      "cell_type": "code",
      "source": [
        "%%capture\n",
        "!pip install --upgrade gdown\n",
        "!pip install easyocr"
      ],
      "metadata": {
        "id": "uEiayCJgxYv1"
      },
      "execution_count": 2,
      "outputs": []
    },
    {
      "cell_type": "code",
      "source": [
        "import torch\n",
        "import easyocr\n",
        "import numpy as np\n",
        "import re\n",
        "import pandas as pd\n",
        "import math\n",
        "import numpy as np\n",
        "from matplotlib import pyplot as plt\n",
        "from PIL import Image\n",
        "import cv2 as cv"
      ],
      "metadata": {
        "id": "F_e4-osd0T1Z"
      },
      "execution_count": 3,
      "outputs": []
    },
    {
      "cell_type": "markdown",
      "source": [
        "# YoloV7 code for readig vitals"
      ],
      "metadata": {
        "id": "qTG9834kxSi6"
      }
    },
    {
      "cell_type": "markdown",
      "source": [
        "###### Downloading custom model, finetuned to our dataset by transferlearning."
      ],
      "metadata": {
        "id": "vBNd_lnqz-kf"
      }
    },
    {
      "cell_type": "code",
      "source": [
        "!gdown 1skq1Y4fUHTnlTOe4bXV2w9NAojlbqu-3"
      ],
      "metadata": {
        "id": "Jw5xctHdxbAC",
        "colab": {
          "base_uri": "https://localhost:8080/"
        },
        "outputId": "18df33f7-189b-4437-caae-e3db9adde5d3"
      },
      "execution_count": 4,
      "outputs": [
        {
          "output_type": "stream",
          "name": "stdout",
          "text": [
            "Downloading...\n",
            "From: https://drive.google.com/uc?id=1skq1Y4fUHTnlTOe4bXV2w9NAojlbqu-3\n",
            "To: /content/custom_number_dec.pt\n",
            "100% 74.9M/74.9M [00:04<00:00, 16.1MB/s]\n"
          ]
        }
      ]
    },
    {
      "cell_type": "markdown",
      "source": [
        "Loading pytorch model via Torch Hub"
      ],
      "metadata": {
        "id": "wGrbGZEA0V4O"
      }
    },
    {
      "cell_type": "code",
      "source": [
        "model = torch.hub.load('WongKinYiu/yolov7', 'custom', 'custom_number_dec.pt', force_reload=True, trust_repo=True)"
      ],
      "metadata": {
        "id": "71StY5HMxfia"
      },
      "execution_count": null,
      "outputs": []
    },
    {
      "cell_type": "code",
      "execution_count": 6,
      "metadata": {
        "id": "1YQ8gpGBxLkJ"
      },
      "outputs": [],
      "source": [
        "def detect_bounding_box(img_path):\n",
        "    results = model(img_path)\n",
        "    pandas_df = results.pandas().xyxy[0]\n",
        "    pandas_df = pandas_df.astype({\"xmin\":\"int\",\"xmax\":\"int\", \"ymin\":\"int\", \"ymax\": \"int\"}) \n",
        "    graph_rows = pandas_df[pandas_df['name'].str.contains('_W')]\n",
        "    pandas_df.drop(graph_rows.index, inplace=True)\n",
        "    pandas_df.sort_values(['class', 'confidence'], ascending=False, inplace=True)\n",
        "    pandas_df.drop_duplicates('class', inplace=True)\n",
        "    names = pandas_df[\"name\"]\n",
        "    pandas_df = pandas_df.reindex(columns=[\"xmin\", \"xmax\", \"ymin\", \"ymax\"])\n",
        "    return pandas_df.values.tolist(), names.values.tolist(), graph_rows"
      ]
    },
    {
      "cell_type": "markdown",
      "source": [
        "# OCR code for reading vitals"
      ],
      "metadata": {
        "id": "fJzJcnOoxhSB"
      }
    },
    {
      "cell_type": "code",
      "source": [
        "# Write OCR Code here in form of function such that given an image and all bbox it will return text\n",
        "reader = easyocr.Reader(['en'])"
      ],
      "metadata": {
        "id": "WjYsWf5bxia-"
      },
      "execution_count": null,
      "outputs": []
    },
    {
      "cell_type": "code",
      "source": [
        "def recognize_vitals(img_path, vitals_bb):\n",
        "  result = reader.recognize(img_path,vitals_bb, [])\n",
        "  return result"
      ],
      "metadata": {
        "id": "l1wTqysxTZoV"
      },
      "execution_count": 8,
      "outputs": []
    },
    {
      "cell_type": "markdown",
      "source": [
        "# Digitizing graphs"
      ],
      "metadata": {
        "id": "QaJK1jDJGfbg"
      }
    },
    {
      "cell_type": "code",
      "source": [
        "def Hist(img):\n",
        "   row, col = img.shape \n",
        "   y = np.zeros(256)\n",
        "   for i in range(0,row):\n",
        "      for j in range(0,col):\n",
        "         y[img[i,j]] += 1\n",
        "   return y\n",
        "\n",
        "\n",
        "def regenerate_img(img, threshold):\n",
        "    row, col = img.shape \n",
        "    y = np.zeros((row, col))\n",
        "    for i in range(0,row):\n",
        "        for j in range(0,col):\n",
        "            if img[i,j] >= threshold:\n",
        "                y[i,j] = 255\n",
        "            else:\n",
        "                y[i,j] = 0\n",
        "    return y\n",
        "\n",
        "\n",
        "\n",
        "def countPixel(h):\n",
        "    cnt = 0\n",
        "    for i in range(0, len(h)):\n",
        "        if h[i]>0:\n",
        "           cnt += h[i]\n",
        "    return cnt\n",
        "\n",
        "\n",
        "def wieght(s, e, h):\n",
        "    w = 0\n",
        "    for i in range(s, e):\n",
        "        w += h[i]\n",
        "    return w\n",
        "\n",
        "\n",
        "def mean(s, e, h):\n",
        "    m = 0\n",
        "    w = wieght(s, e, h)\n",
        "    for i in range(s, e):\n",
        "        m += h[i] * i\n",
        "\n",
        "    return m/float(w)\n",
        "\n",
        "\n",
        "def variance(s, e, h):\n",
        "    v = 0\n",
        "    m = mean(s, e, h)\n",
        "    w = wieght(s, e,h)\n",
        "    for i in range(s, e):\n",
        "        v += ((i - m) **2) * h[i]\n",
        "    v /= w\n",
        "    return v\n",
        "\n",
        "\n",
        "def threshold(h, threshold_values):\n",
        "    cnt = countPixel(h)\n",
        "    for i in range(1, len(h)):\n",
        "        vb = variance(0, i, h)\n",
        "        wb = wieght(0, i, h) / float(cnt)\n",
        "        mb = mean(0, i, h)\n",
        "\n",
        "        vf = variance(i, len(h), h)\n",
        "        wf = wieght(i, len(h), h) / float(cnt)\n",
        "        mf = mean(i, len(h), h)\n",
        "\n",
        "        V2w = wb * (vb)*(vb) + wf * (vf)*(vf)\n",
        "        V2b = wb * wf * (mb - mf)**2\n",
        "        if not math.isnan(V2w):\n",
        "            threshold_values[i] = V2w\n",
        "\n",
        "\n",
        "def get_optimal_threshold(threshold_values):\n",
        "    min_V2w = min(threshold_values.values())\n",
        "    optimal_threshold = [k for k, v in threshold_values.items() if v == min_V2w]\n",
        "    return optimal_threshold[0]\n"
      ],
      "metadata": {
        "id": "PTOL1JZRGevy"
      },
      "execution_count": 9,
      "outputs": []
    },
    {
      "cell_type": "code",
      "source": [
        "def postprocess_graph(res, name):\n",
        "    img=res\n",
        "    for i in range (0,res.shape[0]-10):\n",
        "        for j in range (0,res.shape[1]-10):\n",
        "            if img[i][j]==0:\n",
        "            #check\n",
        "                count=0\n",
        "                for k in range (i-5,i+5):\n",
        "                    for l in range (j-5,j+5):\n",
        "                        if img[k][l]==0:\n",
        "                            count=count+1\n",
        "                if(count<5):\n",
        "                    img[i][j]=255\n",
        "    y=[]\n",
        "    for i in range (0,img.shape[1]):\n",
        "        id=0\n",
        "        for j in range (0,img.shape[0]):\n",
        "            if img[j][i]>100:\n",
        "                y.append(img.shape[1]-j)\n",
        "                id=1\n",
        "                break\n",
        "        if id==0:\n",
        "            y.append(None)\n",
        "    x=np.arange(img.shape[1])\n",
        "    plt.figure(figsize=(15,2))\n",
        "    plt.plot(x,y)\n",
        "    plt.savefig(f'{name}.png')"
      ],
      "metadata": {
        "id": "Umi0xgUwKPeT"
      },
      "execution_count": 10,
      "outputs": []
    },
    {
      "cell_type": "code",
      "source": [
        "def graph_digitizer(graph_vals_df, image_path):\n",
        "    image = cv.imread(image_path, 0)\n",
        "    for ind, row in graph_vals_df.iterrows():\n",
        "        name = row[\"name\"]\n",
        "        x_min , y_min, x_max, y_max = row[\"xmin\"], row[\"ymin\"], row[\"xmax\"], row[\"ymax\"]\n",
        "        graph = image[y_min: y_max, x_min: x_max]\n",
        "        threshold_values = {}\n",
        "        h = [1]\n",
        "        img = np.asarray(graph)\n",
        "        h = Hist(img)\n",
        "        threshold(h,threshold_values)\n",
        "        op_thres = get_optimal_threshold(threshold_values)\n",
        "        res = regenerate_img(img, op_thres)\n",
        "        postprocess_graph(res, name)"
      ],
      "metadata": {
        "id": "6laCEZApHfZa"
      },
      "execution_count": 11,
      "outputs": []
    },
    {
      "cell_type": "markdown",
      "source": [
        "# Inference code for a paticular image"
      ],
      "metadata": {
        "id": "qGiAl2tExsHs"
      }
    },
    {
      "cell_type": "code",
      "source": [
        "def inference(image_path):\n",
        "    vitals_bb, vitals_labels, graphs_bb = detect_bounding_box(image_path)\n",
        "\n",
        "    # Uncomment this line if you want to save graphs too\n",
        "    # graph_digitizer(graphs_bb, image_path)\n",
        "\n",
        "    results = recognize_vitals(image_path,vitals_bb)\n",
        "    final_results = dict(zip(vitals_labels,np.array(results,dtype=object)[:,1]))\n",
        "    dic = {\"HR\":\"-\", \"SPO2\":\"-\", \"RR\":\"-\", \"SBP\":\"-\", \"DBP\":\"-\"}\n",
        "    for k,v in final_results.items():\n",
        "        dic[k] = re.search(r'\\d+', final_results[k]).group()\n",
        "    \n",
        "    return dic"
      ],
      "metadata": {
        "id": "CjMIwx26Cqgd"
      },
      "execution_count": 30,
      "outputs": []
    },
    {
      "cell_type": "code",
      "source": [
        "# %%timeit\n",
        "inference(image_path)"
      ],
      "metadata": {
        "id": "m5kYOz7aW840"
      },
      "execution_count": null,
      "outputs": []
    },
    {
      "cell_type": "code",
      "source": [],
      "metadata": {
        "id": "W9fJgzgme9dI"
      },
      "execution_count": null,
      "outputs": []
    },
    {
      "cell_type": "code",
      "source": [],
      "metadata": {
        "id": "muI-2xw9DNiy"
      },
      "execution_count": null,
      "outputs": []
    }
  ]
}